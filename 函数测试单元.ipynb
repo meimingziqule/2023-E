{
 "cells": [
  {
   "cell_type": "code",
   "execution_count": 7,
   "metadata": {},
   "outputs": [
    {
     "name": "stdout",
     "output_type": "stream",
     "text": [
      "[(0.0, 0.0), (10.0, 1.2), (20.0, 2.4), (30.0, 3.6), (40.0, 4.8), (50.0, 6.0), (50.0, 6.0), (48.0, 10.8), (46.0, 15.6), (44.0, 20.4), (42.0, 25.2), (40.0, 30.0), (40.0, 30.0), (34.0, 28.0), (28.0, 26.0), (22.0, 24.0), (16.0, 22.0), (10.0, 20.0), (10.0, 20.0), (8.0, 16.0), (6.0, 12.0), (4.0, 8.0), (2.0, 4.0), (0.0, 0.0)]\n"
     ]
    }
   ],
   "source": [
    "def divide_line_segment(point1, point2, n):\n",
    "    \"\"\"\n",
    "    将两个点连成的线段平分成n份，并返回包含这些点的数组。\n",
    "\n",
    "    参数:\n",
    "    point1 (tuple): 第一个点的坐标 (x1, y1)\n",
    "    point2 (tuple): 第二个点的坐标 (x2, y2)\n",
    "    n (int): 要平分的份数\n",
    "\n",
    "    返回:\n",
    "    list: 包含所有点的数组，例如[(x1, y1), (x2, y2), ...]\n",
    "    \"\"\"\n",
    "    if n < 1:\n",
    "        raise ValueError(\"n必须大于等于1\")\n",
    "\n",
    "    x1, y1 = point1\n",
    "    x2, y2 = point2\n",
    "\n",
    "    points = []\n",
    "    for i in range(n + 1):\n",
    "        x = x1 + (x2 - x1) * i / n\n",
    "        y = y1 + (y2 - y1) * i / n\n",
    "        points.append((x, y))\n",
    "\n",
    "    return points\n",
    "\n",
    "\n",
    "def divide_polygon_segments(points, n):\n",
    "    \"\"\"\n",
    "    将一个四边形的每条边平分成n份，并将所有结果拼接成一个新的列表。\n",
    "\n",
    "    参数:\n",
    "    points (list): 包含四个点的列表，例如[(x1, y1), (x2, y2), (x3, y3), (x4, y4)]\n",
    "    n (int): 要平分的份数\n",
    "\n",
    "    返回:\n",
    "    list: 包含所有点的数组，例如[(x1, y1), (x2, y2), ..., (x4, y4), ...]\n",
    "    \"\"\"\n",
    "    if len(points) != 4:\n",
    "        raise ValueError(\"points列表必须包含四个点\")\n",
    "\n",
    "    result = []\n",
    "    for i in range(4):\n",
    "        segment_points = divide_line_segment(points[i], points[(i + 1) % 4], n)\n",
    "        result.extend(segment_points)\n",
    "\n",
    "    return result\n",
    "\n",
    "\n",
    "\n",
    "\n",
    "# 示例用法\n",
    "points = [(0, 0), (50, 6), (40, 30), (10, 20)]\n",
    "n = 5\n",
    "result = divide_polygon_segments(points, n)\n",
    "print(result)"
   ]
  },
  {
   "cell_type": "code",
   "execution_count": null,
   "metadata": {},
   "outputs": [],
   "source": [
    "rect_point_num = 0 \n",
    "frame_head = '#'\n",
    "frame_tail = ';'\n",
    "data = uart.read()\n",
    "if data:\n",
    "    data_decoded = data.decode('utf-8')\n",
    "    if data_decoded[0] == frame_head and data_decoded[2] == frame_tail:\n",
    "        task_flag = data_decoded[1]\n",
    "        if task_flag == '1':\n",
    "            rect_point_num += 1\n",
    "            print(\"rect_point_num\",rect_point_num)\n",
    "            print(\"task_flag:\",task_flag)"
   ]
  },
  {
   "cell_type": "code",
   "execution_count": null,
   "metadata": {},
   "outputs": [],
   "source": [
    "import sensor\n",
    "import image\n",
    "import time\n",
    "\n",
    "# 初始化摄像头传感器\n",
    "sensor.reset()\n",
    "sensor.set_pixformat(sensor.GRAYSCALE)  # 设置为灰度图像格式\n",
    "sensor.set_framesize(sensor.SVGA)\n",
    "baoguang = 10000\n",
    "baoguang_step = 2000\n",
    "clock = time.clock()\n",
    "\n",
    "while(True):\n",
    "    clock.tick()\n",
    "\n",
    "    # 捕获图像\n",
    "    img = sensor.snapshot()\n",
    "    histogram = img.histogram()\n",
    "    # 计算图像的直方图\n",
    "    threshold =  histogram.get_threshold\n",
    "    l_value = threshold.l_value()\n",
    "    print(l_value)\n",
    "    \n",
    "\n"
   ]
  }
 ],
 "metadata": {
  "kernelspec": {
   "display_name": "Python 3",
   "language": "python",
   "name": "python3"
  },
  "language_info": {
   "codemirror_mode": {
    "name": "ipython",
    "version": 3
   },
   "file_extension": ".py",
   "mimetype": "text/x-python",
   "name": "python",
   "nbconvert_exporter": "python",
   "pygments_lexer": "ipython3",
   "version": "3.10.13"
  }
 },
 "nbformat": 4,
 "nbformat_minor": 2
}
